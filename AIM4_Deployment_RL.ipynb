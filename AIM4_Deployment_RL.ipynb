{
  "nbformat": 4,
  "nbformat_minor": 0,
  "metadata": {
    "colab": {
      "provenance": []
    },
    "kernelspec": {
      "name": "python3",
      "display_name": "Python 3"
    },
    "language_info": {
      "name": "python"
    }
  },
  "cells": [
    {
      "cell_type": "code",
      "source": [
        "# Melakukan Instalasi Packages yang Dibutuhkan\n",
        "!pip install flask --quiet\n",
        "!pip install flask-ngrok --quiet\n",
        "!pip install gym==0.17.3 --quiet\n",
        "print(\"Completed!\")"
      ],
      "metadata": {
        "colab": {
          "base_uri": "https://localhost:8080/"
        },
        "id": "kKAGGjaoCn5f",
        "outputId": "ac60b278-c52e-4b14-e5a4-41632061d099"
      },
      "execution_count": 1,
      "outputs": [
        {
          "output_type": "stream",
          "name": "stdout",
          "text": [
            "\u001b[?25l     \u001b[90m━━━━━━━━━━━━━━━━━━━━━━━━━━━━━━━━━━━━━━━━\u001b[0m \u001b[32m0.0/1.6 MB\u001b[0m \u001b[31m?\u001b[0m eta \u001b[36m-:--:--\u001b[0m\r\u001b[2K     \u001b[91m━━━━━━━━\u001b[0m\u001b[90m╺\u001b[0m\u001b[90m━━━━━━━━━━━━━━━━━━━━━━━━━━━━━━━\u001b[0m \u001b[32m0.3/1.6 MB\u001b[0m \u001b[31m10.6 MB/s\u001b[0m eta \u001b[36m0:00:01\u001b[0m\r\u001b[2K     \u001b[91m━━━━━━━━━━━━━━━━━━━━━━━━━━━━━━━━━━━━━━━\u001b[0m\u001b[91m╸\u001b[0m \u001b[32m1.6/1.6 MB\u001b[0m \u001b[31m26.8 MB/s\u001b[0m eta \u001b[36m0:00:01\u001b[0m\r\u001b[2K     \u001b[90m━━━━━━━━━━━━━━━━━━━━━━━━━━━━━━━━━━━━━━━━\u001b[0m \u001b[32m1.6/1.6 MB\u001b[0m \u001b[31m20.6 MB/s\u001b[0m eta \u001b[36m0:00:00\u001b[0m\n",
            "\u001b[?25h  Preparing metadata (setup.py) ... \u001b[?25l\u001b[?25hdone\n",
            "\u001b[2K     \u001b[90m━━━━━━━━━━━━━━━━━━━━━━━━━━━━━━━━━━━━━━━━\u001b[0m \u001b[32m1.0/1.0 MB\u001b[0m \u001b[31m44.4 MB/s\u001b[0m eta \u001b[36m0:00:00\u001b[0m\n",
            "\u001b[?25h  Building wheel for gym (setup.py) ... \u001b[?25l\u001b[?25hdone\n",
            "Completed!\n"
          ]
        }
      ]
    },
    {
      "cell_type": "code",
      "execution_count": 2,
      "metadata": {
        "colab": {
          "base_uri": "https://localhost:8080/"
        },
        "id": "iG6sBoZ5CeLI",
        "outputId": "7e56a6e8-36d8-4b3c-b9df-f1725991362e"
      },
      "outputs": [
        {
          "output_type": "stream",
          "name": "stdout",
          "text": [
            "--2023-05-03 16:40:41--  https://bin.equinox.io/c/4VmDzA7iaHb/ngrok-stable-linux-amd64.tgz\n",
            "Resolving bin.equinox.io (bin.equinox.io)... 54.161.241.46, 18.205.222.128, 54.237.133.81, ...\n",
            "Connecting to bin.equinox.io (bin.equinox.io)|54.161.241.46|:443... connected.\n",
            "HTTP request sent, awaiting response... 200 OK\n",
            "Length: 13856790 (13M) [application/octet-stream]\n",
            "Saving to: ‘ngrok-stable-linux-amd64.tgz’\n",
            "\n",
            "ngrok-stable-linux- 100%[===================>]  13.21M  41.7MB/s    in 0.3s    \n",
            "\n",
            "2023-05-03 16:40:41 (41.7 MB/s) - ‘ngrok-stable-linux-amd64.tgz’ saved [13856790/13856790]\n",
            "\n",
            "ngrok\n"
          ]
        }
      ],
      "source": [
        "# Download \"ngrox\" \n",
        "!wget https://bin.equinox.io/c/4VmDzA7iaHb/ngrok-stable-linux-amd64.tgz\n",
        "!tar -xvf /content/ngrok-stable-linux-amd64.tgz "
      ]
    },
    {
      "cell_type": "code",
      "source": [
        "# Setting Token\n",
        "!./ngrok authtoken <token> # diganti dengan token Anda !"
      ],
      "metadata": {
        "colab": {
          "base_uri": "https://localhost:8080/"
        },
        "id": "POTiBE3cDSGV",
        "outputId": "61b7d0a6-1683-4860-f7df-e03e6c2bc414"
      },
      "execution_count": 3,
      "outputs": [
        {
          "output_type": "stream",
          "name": "stdout",
          "text": [
            "Authtoken saved to configuration file: /root/.ngrok2/ngrok.yml\n"
          ]
        }
      ]
    },
    {
      "cell_type": "code",
      "source": [
        "# Clone Repository dari Github\n",
        "!git clone https://github.com/wildanagba45/deployment-rl"
      ],
      "metadata": {
        "colab": {
          "base_uri": "https://localhost:8080/"
        },
        "id": "yk96a28RDZUu",
        "outputId": "18f9b448-e430-486f-f6a7-3306cb3ac1db"
      },
      "execution_count": 4,
      "outputs": [
        {
          "output_type": "stream",
          "name": "stdout",
          "text": [
            "Cloning into 'deployment-rl'...\n",
            "remote: Enumerating objects: 51, done.\u001b[K\n",
            "remote: Counting objects: 100% (51/51), done.\u001b[K\n",
            "remote: Compressing objects: 100% (47/47), done.\u001b[K\n",
            "remote: Total 51 (delta 8), reused 0 (delta 0), pack-reused 0\u001b[K\n",
            "Unpacking objects: 100% (51/51), 548.86 KiB | 5.08 MiB/s, done.\n"
          ]
        }
      ]
    },
    {
      "cell_type": "code",
      "source": [
        "cd /content/deployment-rl/"
      ],
      "metadata": {
        "colab": {
          "base_uri": "https://localhost:8080/"
        },
        "id": "ydMYuFdvDhr8",
        "outputId": "04c0517a-f4a3-465a-c58a-ec2b460d450b"
      },
      "execution_count": 5,
      "outputs": [
        {
          "output_type": "stream",
          "name": "stdout",
          "text": [
            "/content/deployment-rl\n"
          ]
        }
      ]
    },
    {
      "cell_type": "code",
      "source": [
        "# Jalankan Aplikasi (Kode Python \"app.py\")\n",
        "!python3 app.py"
      ],
      "metadata": {
        "colab": {
          "base_uri": "https://localhost:8080/"
        },
        "id": "lNtk50LaDnHQ",
        "outputId": "9de04e96-0aa8-4813-fbee-f4e242d33eaa"
      },
      "execution_count": null,
      "outputs": [
        {
          "output_type": "stream",
          "name": "stdout",
          "text": [
            " * Serving Flask app 'app'\n",
            " * Debug mode: off\n",
            "\u001b[31m\u001b[1mWARNING: This is a development server. Do not use it in a production deployment. Use a production WSGI server instead.\u001b[0m\n",
            " * Running on http://127.0.0.1:5000\n",
            "\u001b[33mPress CTRL+C to quit\u001b[0m\n",
            " * Running on http://8fce-34-28-83-162.ngrok-free.app\n",
            " * Traffic stats available on http://127.0.0.1:4040\n",
            "127.0.0.1 - - [03/May/2023 16:41:10] \"GET / HTTP/1.1\" 200 -\n",
            "127.0.0.1 - - [03/May/2023 16:41:13] \"\u001b[32mGET /static//css/client_side.css HTTP/1.1\u001b[0m\" 308 -\n",
            "127.0.0.1 - - [03/May/2023 16:41:13] \"\u001b[32mGET /static//js/jquery_3.6.0.min.js HTTP/1.1\u001b[0m\" 308 -\n",
            "127.0.0.1 - - [03/May/2023 16:41:13] \"\u001b[32mGET /static//css/bootstrap.min.css HTTP/1.1\u001b[0m\" 308 -\n",
            "127.0.0.1 - - [03/May/2023 16:41:14] \"GET /static/js/jquery_3.6.0.min.js HTTP/1.1\" 200 -\n",
            "127.0.0.1 - - [03/May/2023 16:41:14] \"GET /static/css/client_side.css HTTP/1.1\" 200 -\n",
            "127.0.0.1 - - [03/May/2023 16:41:14] \"GET /static/css/bootstrap.min.css HTTP/1.1\" 200 -\n",
            "127.0.0.1 - - [03/May/2023 16:41:15] \"\u001b[32mGET /static//js/bootstrap_3.4.1.min.js HTTP/1.1\u001b[0m\" 308 -\n",
            "127.0.0.1 - - [03/May/2023 16:41:16] \"GET /static/js/bootstrap_3.4.1.min.js HTTP/1.1\" 200 -\n",
            "127.0.0.1 - - [03/May/2023 16:41:17] \"\u001b[32mGET /static//js/client_side.js HTTP/1.1\u001b[0m\" 308 -\n",
            "127.0.0.1 - - [03/May/2023 16:41:17] \"\u001b[32mGET /static//images/orbit_logo.jpg HTTP/1.1\u001b[0m\" 308 -\n",
            "127.0.0.1 - - [03/May/2023 16:41:17] \"\u001b[32mGET /static//images/app-display.JPG HTTP/1.1\u001b[0m\" 308 -\n",
            "127.0.0.1 - - [03/May/2023 16:41:19] \"GET /static/fonts/lato_latin.woff2 HTTP/1.1\" 200 -\n",
            "127.0.0.1 - - [03/May/2023 16:41:19] \"GET /static/fonts/glyphicons-halflings-regular.woff2 HTTP/1.1\" 200 -\n",
            "127.0.0.1 - - [03/May/2023 16:41:19] \"GET /static/images/orbit_logo.jpg HTTP/1.1\" 200 -\n",
            "127.0.0.1 - - [03/May/2023 16:41:19] \"GET /static/js/client_side.js HTTP/1.1\" 200 -\n",
            "127.0.0.1 - - [03/May/2023 16:41:19] \"GET /static/images/app-display.JPG HTTP/1.1\" 200 -\n",
            "127.0.0.1 - - [03/May/2023 16:41:21] \"GET /api/reset HTTP/1.1\" 200 -\n",
            "127.0.0.1 - - [03/May/2023 16:41:21] \"GET /static/favicon.ico HTTP/1.1\" 200 -\n",
            "127.0.0.1 - - [03/May/2023 16:41:22] \"GET /static/images/frozen-pemain.JPG HTTP/1.1\" 200 -\n",
            "127.0.0.1 - - [03/May/2023 16:41:22] \"GET /static/images/lubang.JPG HTTP/1.1\" 200 -\n",
            "127.0.0.1 - - [03/May/2023 16:41:22] \"GET /static/images/frozen.JPG HTTP/1.1\" 200 -\n",
            "127.0.0.1 - - [03/May/2023 16:41:22] \"GET /static/images/goal.JPG HTTP/1.1\" 200 -\n"
          ]
        }
      ]
    },
    {
      "cell_type": "code",
      "source": [],
      "metadata": {
        "id": "amvusvgmDpWH"
      },
      "execution_count": null,
      "outputs": []
    }
  ]
}